{
 "cells": [
  {
   "cell_type": "code",
   "execution_count": null,
   "metadata": {
    "pycharm": {
     "is_executing": true
    },
    "scrolled": true
   },
   "outputs": [
    {
     "name": "stderr",
     "output_type": "stream",
     "text": [
      "[=======                                                                 ]  10%\r"
     ]
    },
    {
     "name": "stdout",
     "output_type": "stream",
     "text": [
      "Model: \"sequential\"\n",
      "_________________________________________________________________\n",
      "Layer (type)                 Output Shape              Param #   \n",
      "=================================================================\n",
      "embedding (Embedding)        (None, 1, 10)             5000      \n",
      "_________________________________________________________________\n",
      "reshape (Reshape)            (None, 10)                0         \n",
      "_________________________________________________________________\n",
      "dense (Dense)                (None, 50)                550       \n",
      "_________________________________________________________________\n",
      "dense_1 (Dense)              (None, 50)                2550      \n",
      "_________________________________________________________________\n",
      "dense_2 (Dense)              (None, 6)                 306       \n",
      "=================================================================\n",
      "Total params: 8,406\n",
      "Trainable params: 8,406\n",
      "Non-trainable params: 0\n",
      "_________________________________________________________________\n"
     ]
    },
    {
     "name": "stderr",
     "output_type": "stream",
     "text": [
      "[========================================================================] 100%\r"
     ]
    },
    {
     "name": "stdout",
     "output_type": "stream",
     "text": [
      "**********************************\n",
      "Episode: 1\n",
      "+---------+\n",
      "|\u001B[34;1mR\u001B[0m: | : :G|\n",
      "| : | : : |\n",
      "| : : : : |\n",
      "| | : |\u001B[43m \u001B[0m: |\n",
      "|Y| : |\u001B[35mB\u001B[0m: |\n",
      "+---------+\n",
      "  (South)\n",
      "**********************************\n",
      "reward is :\n",
      "-1\n"
     ]
    },
    {
     "name": "stderr",
     "output_type": "stream",
     "text": [
      "\n"
     ]
    },
    {
     "data": {
      "image/png": "[encoded data removed]",
      "text/plain": [
       "<Figure size 432x288 with 1 Axes>"
      ]
     },
     "metadata": {
      "needs_background": "light"
     },
     "output_type": "display_data"
    },
    {
     "name": "stderr",
     "output_type": "stream",
     "text": [
      "[========================================================================] 100%\r"
     ]
    },
    {
     "name": "stdout",
     "output_type": "stream",
     "text": [
      "**********************************\n",
      "Episode: 2\n",
      "+---------+\n",
      "|R: |\u001B[43m \u001B[0m: :G|\n",
      "| : | : : |\n",
      "| : : : : |\n",
      "| | : | : |\n",
      "|\u001B[34;1mY\u001B[0m| : |\u001B[35mB\u001B[0m: |\n",
      "+---------+\n",
      "  (West)\n",
      "**********************************\n",
      "reward is :\n",
      "2\n"
     ]
    },
    {
     "name": "stderr",
     "output_type": "stream",
     "text": [
      "\n"
     ]
    },
    {
     "data": {
      "image/png": "[encoded data removed]",
      "text/plain": [
       "<Figure size 432x288 with 1 Axes>"
      ]
     },
     "metadata": {
      "needs_background": "light"
     },
     "output_type": "display_data"
    },
    {
     "name": "stderr",
     "output_type": "stream",
     "text": [
      "[========================================================================] 100%\r"
     ]
    },
    {
     "name": "stdout",
     "output_type": "stream",
     "text": [
      "**********************************\n",
      "Episode: 3\n",
      "+---------+\n",
      "|R: | : :\u001B[34;1mG\u001B[0m|\n",
      "| : | :\u001B[43m \u001B[0m: |\n",
      "| : : : : |\n",
      "| | : | : |\n",
      "|\u001B[35mY\u001B[0m| : |B: |\n",
      "+---------+\n",
      "  (West)\n",
      "**********************************\n",
      "reward is :\n",
      "2\n"
     ]
    },
    {
     "name": "stderr",
     "output_type": "stream",
     "text": [
      "\n"
     ]
    },
    {
     "data": {
      "image/png": "[encoded data removed]",
      "text/plain": [
       "<Figure size 432x288 with 1 Axes>"
      ]
     },
     "metadata": {
      "needs_background": "light"
     },
     "output_type": "display_data"
    },
    {
     "name": "stderr",
     "output_type": "stream",
     "text": [
      "[========================================================================] 100%\r"
     ]
    },
    {
     "name": "stdout",
     "output_type": "stream",
     "text": [
      "**********************************\n",
      "Episode: 4\n",
      "+---------+\n",
      "|R: | : :G|\n",
      "| : | : : |\n",
      "| : : : : |\n",
      "| |\u001B[42m_\u001B[0m: | : |\n",
      "|\u001B[35mY\u001B[0m| : |B: |\n",
      "+---------+\n",
      "  (South)\n",
      "**********************************\n",
      "reward is :\n",
      "-1\n"
     ]
    },
    {
     "name": "stderr",
     "output_type": "stream",
     "text": [
      "\n"
     ]
    },
    {
     "data": {
      "image/png": "[encoded data removed]",
      "text/plain": [
       "<Figure size 432x288 with 1 Axes>"
      ]
     },
     "metadata": {
      "needs_background": "light"
     },
     "output_type": "display_data"
    },
    {
     "name": "stderr",
     "output_type": "stream",
     "text": [
      "[==================================================                      ]  70%\r"
     ]
    }
   ],
   "source": [
    "import numpy as np\n",
    "import random\n",
    "import matplotlib.pyplot as plt\n",
    "from drawnow import drawnow\n",
    "from IPython.display import clear_output\n",
    "from collections import deque\n",
    "import progressbar\n",
    "\n",
    "import gym\n",
    "from tensorflow.keras import Model, Sequential\n",
    "from tensorflow.keras.layers import Dense, Embedding, Reshape\n",
    "from tensorflow.keras.optimizers import Adam\n",
    "\n",
    "\n",
    "def makeFig():\n",
    "    plt.scatter(xList,yList) # I think you meant this\n",
    "plt.ion() # enable interactivity\n",
    "fig=plt.figure() # make a figure\n",
    "\n",
    "xList=list()\n",
    "yList=list()\n",
    "#make environment\n",
    "enviroment = gym.make(\"Taxi-v3\").env\n",
    "#enviroment.render()\n",
    "#print('Number of states: {}'.format(enviroment.observation_space.n))\n",
    "#print('Number of actions: {}'.format(enviroment.action_space.n))\n",
    "\n",
    "#agent class\n",
    "class Agent:\n",
    "    def __init__(self, enviroment, optimizer):\n",
    "\n",
    "        # Initialize atributes\n",
    "        self._state_size = enviroment.observation_space.n\n",
    "        self._action_size = enviroment.action_space.n\n",
    "        self._optimizer = optimizer\n",
    "\n",
    "        self.expirience_replay = deque(maxlen=2000)#random sample\n",
    "\n",
    "        # Initialize discount and exploration rate/ hyper parameters\n",
    "        self.gamma = 0.7 #discounting rate\n",
    "        self.epsilon = 0.3\n",
    "\n",
    "        # Build networks\n",
    "        self.q_network = self._build_compile_model()\n",
    "        self.target_network = self._build_compile_model()\n",
    "        self.alighn_target_model()\n",
    "\n",
    "    def store(self, state, action, reward, next_state, terminated):\n",
    "        self.expirience_replay.append((state, action, reward, next_state, terminated))\n",
    "\n",
    "    def _build_compile_model(self):#core\n",
    "        model = Sequential()\n",
    "        model.add(Embedding(self._state_size, 10, input_length=1))\n",
    "        model.add(Reshape((10,)))\n",
    "        model.add(Dense(50, activation='relu'))\n",
    "        model.add(Dense(50, activation='relu'))\n",
    "        model.add(Dense(self._action_size, activation='linear'))\n",
    "        model.compile(loss='mse', optimizer=self._optimizer)\n",
    "        return model\n",
    "\n",
    "    def alighn_target_model(self):#set parameter to tar_get network\n",
    "        self.target_network.set_weights(self.q_network.get_weights())\n",
    "\n",
    "    def act(self, state):\n",
    "        if np.random.rand() <= self.epsilon:\n",
    "            return enviroment.action_space.sample()\n",
    "        q_values = self.q_network.predict(state)\n",
    "        return np.argmax(q_values[0])\n",
    "\n",
    "    def retrain(self, batch_size):#retrain from experience memory\n",
    "        minibatch = random.sample(self.expirience_replay, batch_size)\n",
    "\n",
    "        for state, action, reward, next_state, terminated in minibatch:\n",
    "\n",
    "            target = self.q_network.predict(state)\n",
    "\n",
    "            if terminated:\n",
    "                target[0][action] = reward\n",
    "            else:\n",
    "                t = self.target_network.predict(next_state)\n",
    "                target[0][action] = reward + self.gamma * np.amax(t)\n",
    "\n",
    "            self.q_network.fit(state, target, epochs=1, verbose=0)\n",
    "\n",
    "\n",
    "optimizer = Adam(learning_rate=0.01)\n",
    "agent = Agent(enviroment, optimizer)\n",
    "\n",
    "batch_size = 32\n",
    "num_of_episodes = 50\n",
    "timesteps_per_episode = 100\n",
    "agent.q_network.summary()\n",
    "for e in range(0, num_of_episodes):\n",
    "    # Reset the enviroment\n",
    "    state = enviroment.reset()\n",
    "    state = np.reshape(state, [1, 1])\n",
    "\n",
    "    # Initialize variables\n",
    "    reward = 0\n",
    "    terminated = False\n",
    "\n",
    "\n",
    "    bar = progressbar.ProgressBar(maxval=timesteps_per_episode/10, widgets=[progressbar.Bar('=', '[', ']'), ' ', progressbar.Percentage()])\n",
    "    bar.start()\n",
    "    for timestep in range(timesteps_per_episode):\n",
    "        # Run Action\n",
    "        action = agent.act(state)\n",
    "\n",
    "        # Take action\n",
    "        next_state, reward, terminated, info = enviroment.step(action)\n",
    "        next_state = np.reshape(next_state, [1, 1])\n",
    "        agent.store(state, action, reward, next_state, terminated)\n",
    "\n",
    "        state = next_state\n",
    "        reward += action\n",
    "\n",
    "        if terminated:\n",
    "            agent.alighn_target_model()\n",
    "            break\n",
    "\n",
    "        if len(agent.expirience_replay) > batch_size:\n",
    "            agent.retrain(batch_size)\n",
    "\n",
    "        if timestep%10 == 0:\n",
    "            bar.update(timestep/10 + 1)\n",
    "\n",
    "    bar.finish()\n",
    "    print(\"**********************************\")\n",
    "    print(\"Episode: {}\".format(e + 1))\n",
    "    enviroment.render()\n",
    "    print(\"**********************************\")\n",
    "    print(\"reward is :\")\n",
    "    y = reward\n",
    "    print(reward)\n",
    "    xList.append(e+1)\n",
    "    yList.append(y)\n",
    "    drawnow(makeFig)\n",
    "agent.q_network.summary()\n",
    "\n",
    "    \n",
    "\n",
    "\n",
    "\n"
   ]
  },
  {
   "cell_type": "code",
   "execution_count": null,
   "metadata": {
    "pycharm": {
     "name": "#%%\n"
    }
   },
   "outputs": [],
   "source": []
  },
  {
   "cell_type": "code",
   "execution_count": null,
   "metadata": {},
   "outputs": [],
   "source": []
  }
 ],
 "metadata": {
  "celltoolbar": "Raw Cell Format",
  "kernelspec": {
   "display_name": "Python 3",
   "language": "python",
   "name": "python3"
  },
  "language_info": {
   "codemirror_mode": {
    "name": "ipython",
    "version": 3
   },
   "file_extension": ".py",
   "mimetype": "text/x-python",
   "name": "python",
   "nbconvert_exporter": "python",
   "pygments_lexer": "ipython3",
   "version": "3.7.7"
  }
 },
 "nbformat": 4,
 "nbformat_minor": 1
}